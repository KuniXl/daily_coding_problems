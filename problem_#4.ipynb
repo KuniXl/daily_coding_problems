{
 "cells": [
  {
   "cell_type": "markdown",
   "metadata": {},
   "source": [
    "# Daily Coding Problem #4 [Hard]"
   ]
  },
  {
   "cell_type": "markdown",
   "metadata": {},
   "source": [
    "Good morning! Here's your coding interview problem for today.\n",
    "\n",
    "This problem was asked by Stripe.\n",
    "\n",
    "Given an array of integers, find the first missing positive integer in linear time and constant space. In other words, find the lowest positive integer that does not exist in the array. The array can contain duplicates and negative numbers as well.\n",
    "\n",
    "For example, the input [3, 4, -1, 1] should give 2. The input [1, 2, 0] should give 3.\n",
    "\n",
    "You can modify the input array in-place."
   ]
  },
  {
   "cell_type": "code",
   "execution_count": 3,
   "metadata": {},
   "outputs": [
    {
     "name": "stdout",
     "output_type": "stream",
     "text": [
      "Sol: 2\n",
      "Sol: 3\n"
     ]
    }
   ],
   "source": [
    "def find_lowest_positive_missing_number(arr):\n",
    "    arr = dict(enumerate(sorted(arr)))\n",
    "    for i in arr:\n",
    "        if arr[i]>0:\n",
    "            if arr[i]+1 not in arr.values():\n",
    "                return arr[i]+1\n",
    "    return None\n",
    "    \n",
    "list1 = [3, 4, -1, 1] # 2\n",
    "list2 = [1, 2, 0] # 3\n",
    "\n",
    "print(\"Sol: \" + str(find_lowest_positive_missing_number(list1)))\n",
    "print(\"Sol: \" + str(find_lowest_positive_missing_number(list2)))"
   ]
  },
  {
   "cell_type": "markdown",
   "metadata": {},
   "source": [
    "This solution first sorts the array, which takes O(nLog(n)) time and then we iterate over the array which take additionaly O(n) time.\n",
    "\n",
    "--> O(nLog(n)+n) --> O(nLog(n))\n",
    "\n",
    "We would like to do this in O(n). Let's think again!"
   ]
  },
  {
   "cell_type": "code",
   "execution_count": 4,
   "metadata": {},
   "outputs": [
    {
     "name": "stdout",
     "output_type": "stream",
     "text": [
      "Sol: 2\n",
      "Sol: 3\n"
     ]
    }
   ],
   "source": [
    "def solution(arr):\n",
    "    max_val = max(arr)\n",
    "    \n",
    "    # creat a temp arr with size max_val filled with 0's\n",
    "    temp = [0]*max_val\n",
    "    \n",
    "    for x in arr:\n",
    "        if x>0:\n",
    "            temp[x-1] = 1\n",
    "    \n",
    "    for i, x in enumerate(temp):\n",
    "        if x == 0:\n",
    "            # the index+1 of a 0 is our missing number\n",
    "            return i+1\n",
    "    # incase all the values are 1 --> return i+2    \n",
    "    return i+2\n",
    "\n",
    "list1 = [3, 4, -1, 1] # 2\n",
    "list2 = [1, 2, 0] # 3    \n",
    "    \n",
    "print(\"Sol: \" + str(solution(list1)))\n",
    "print(\"Sol: \" + str(solution(list2)))"
   ]
  },
  {
   "cell_type": "markdown",
   "metadata": {},
   "source": [
    "*Another approach: In this problem, we have created a list full of 0’s with size of the max() value of our given array. Now, whenever we encounter any positive value in our original array, we change the index value of our list to 1. So, after we are done, we simply iterate through our modified list, the first 0 we encounter, its (index value + 1) should be our answer since index in python starts from 0.*\n",
    "\n",
    "Source: [GeeksforGeeks](https://www.geeksforgeeks.org/find-the-smallest-positive-number-missing-from-an-unsorted-array/)"
   ]
  },
  {
   "cell_type": "code",
   "execution_count": null,
   "metadata": {},
   "outputs": [],
   "source": []
  }
 ],
 "metadata": {
  "kernelspec": {
   "display_name": "Python 3",
   "language": "python",
   "name": "python3"
  },
  "language_info": {
   "codemirror_mode": {
    "name": "ipython",
    "version": 3
   },
   "file_extension": ".py",
   "mimetype": "text/x-python",
   "name": "python",
   "nbconvert_exporter": "python",
   "pygments_lexer": "ipython3",
   "version": "3.6.8"
  }
 },
 "nbformat": 4,
 "nbformat_minor": 2
}
