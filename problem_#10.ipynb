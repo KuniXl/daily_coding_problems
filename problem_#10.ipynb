{
 "cells": [
  {
   "cell_type": "markdown",
   "metadata": {},
   "source": [
    "# Daily Coding Problem: Problem #10 [Medium]\n",
    "\n",
    "This problem was asked by Apple.\n",
    "\n",
    "Implement a job scheduler which takes in a function `f` and an integer `n`, and calls `f` after `n` milliseconds."
   ]
  },
  {
   "cell_type": "code",
   "execution_count": 5,
   "metadata": {},
   "outputs": [
    {
     "name": "stdout",
     "output_type": "stream",
     "text": [
      "Hi\n"
     ]
    }
   ],
   "source": [
    "from time import sleep\n",
    "\n",
    "def sample_function():\n",
    "    print(\"Hi\")\n",
    "\n",
    "def schedule_function(func:object, n:int):\n",
    "    sleep(n)\n",
    "    sample_function()\n",
    "    \n",
    "schedule_function(min, 5)\n",
    "    "
   ]
  },
  {
   "cell_type": "code",
   "execution_count": null,
   "metadata": {},
   "outputs": [],
   "source": []
  }
 ],
 "metadata": {
  "kernelspec": {
   "display_name": "Python 3",
   "language": "python",
   "name": "python3"
  },
  "language_info": {
   "codemirror_mode": {
    "name": "ipython",
    "version": 3
   },
   "file_extension": ".py",
   "mimetype": "text/x-python",
   "name": "python",
   "nbconvert_exporter": "python",
   "pygments_lexer": "ipython3",
   "version": "3.6.8"
  }
 },
 "nbformat": 4,
 "nbformat_minor": 2
}
