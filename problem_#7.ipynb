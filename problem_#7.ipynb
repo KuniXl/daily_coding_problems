{
 "cells": [
  {
   "cell_type": "markdown",
   "metadata": {},
   "source": [
    "# Daily Coding Problem: Problem #7 [Medium]\n",
    "\n",
    "This problem was asked by Facebook.\n",
    "\n",
    "Given the mapping a = 1, b = 2, ... z = 26, and an encoded message, count the number of ways it can be decoded.\n",
    "\n",
    "For example, the message '111' would give 3, since it could be decoded as 'aaa', 'ka', and 'ak'.\n",
    "\n",
    "You can assume that the messages are decodable. For example, '001' is not allowed."
   ]
  },
  {
   "cell_type": "code",
   "execution_count": 16,
   "metadata": {
    "scrolled": true
   },
   "outputs": [],
   "source": [
    "def is_char(n: int):\n",
    "    \"\"\"\n",
    "        Checks if number n can be mapped to a,b,...,z\n",
    "        \n",
    "        Parameters:\n",
    "            n (int): Just a number.\n",
    "        \n",
    "        Returns:\n",
    "            return 0 if n > 26 or n < 1 else 1\n",
    "    \"\"\"\n",
    "    n = int(n)\n",
    "    return 0 if n > 26 or n < 1 else 1\n",
    "\n",
    "def sol(m : str):\n",
    "    \"\"\"\n",
    "    Given the mapping a = 1, b = 2, ... z = 26, and an encoded message, count the number of ways it can be decoded.\n",
    "\n",
    "    For example, the message '111' would give 3, since it could be decoded as 'aaa', 'ka', and 'ak'.\n",
    "    \"\"\"\n",
    "    m = str(m)\n",
    "    count = 0\n",
    "    if len(m) == 1:\n",
    "        count = 1   \n",
    "    if len(m) == 2:\n",
    "        count = 1 + is_char(m)\n",
    "    if len(m) != 1 and len(m) != 2:\n",
    "        count = sol(int(m[1:]))\n",
    "        if is_char(int(m[:2])):\n",
    "            count += sol(int(m[2:]))\n",
    "            \n",
    "    return count"
   ]
  },
  {
   "cell_type": "code",
   "execution_count": 17,
   "metadata": {},
   "outputs": [],
   "source": [
    "assert sol(81) == 1\n",
    "assert sol(11) == 2\n",
    "assert sol(111) == 3\n",
    "assert sol(1111) == 5\n",
    "assert sol(1311) == 4\n",
    "assert sol(11111111) == 34"
   ]
  },
  {
   "cell_type": "code",
   "execution_count": null,
   "metadata": {},
   "outputs": [],
   "source": []
  }
 ],
 "metadata": {
  "kernelspec": {
   "display_name": "Python 3",
   "language": "python",
   "name": "python3"
  },
  "language_info": {
   "codemirror_mode": {
    "name": "ipython",
    "version": 3
   },
   "file_extension": ".py",
   "mimetype": "text/x-python",
   "name": "python",
   "nbconvert_exporter": "python",
   "pygments_lexer": "ipython3",
   "version": "3.6.8"
  }
 },
 "nbformat": 4,
 "nbformat_minor": 2
}
