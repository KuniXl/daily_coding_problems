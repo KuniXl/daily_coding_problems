{
 "cells": [
  {
   "cell_type": "markdown",
   "metadata": {},
   "source": [
    "# Daily Coding Problem: Problem #9 [Hard]\n",
    "\n",
    "This problem was asked by Airbnb.\n",
    "\n",
    "Given a list of integers, write a function that returns the largest sum of non-adjacent numbers. Numbers can be 0 or negative.\n",
    "\n",
    "For example, `[2, 4, 6, 2, 5]` should return `13`, since we pick `2`, `6`, and `5`. `[5, 1, 1, 5]` should return `10`, since we pick `5` and `5`.\n",
    "\n",
    "Follow-up: Can you do this in O(N) time and constant space?"
   ]
  },
  {
   "cell_type": "code",
   "execution_count": 28,
   "metadata": {},
   "outputs": [],
   "source": [
    "def find_max_sum(arr):\n",
    "    incl = 0\n",
    "    excl = 0\n",
    "    \n",
    "    if len(arr) == 2:\n",
    "        # the arr has 2 elements and since they are adjacent we can't add them --> highest sum == 0\n",
    "        return 0\n",
    "    \n",
    "    for i in arr:\n",
    "        new_excl = max(incl, excl)\n",
    "        incl = excl + i\n",
    "        excl = new_excl\n",
    "    return max(incl, excl)"
   ]
  },
  {
   "cell_type": "code",
   "execution_count": 29,
   "metadata": {},
   "outputs": [
    {
     "name": "stdout",
     "output_type": "stream",
     "text": [
      "80\n"
     ]
    }
   ],
   "source": [
    "arr = [5,  5, 10, 40, 50, 35] \n",
    "print(find_max_sum(arr))"
   ]
  },
  {
   "cell_type": "code",
   "execution_count": 30,
   "metadata": {},
   "outputs": [],
   "source": [
    "assert find_max_sum([5, 5, 10, 100, 10, 5]) == 110\n",
    "assert find_max_sum([5,  5, 10, 40, 50, 35]) == 80"
   ]
  },
  {
   "cell_type": "markdown",
   "metadata": {},
   "source": [
    "Look also here: https://www.geeksforgeeks.org/maximum-sum-such-that-no-two-elements-are-adjacent/"
   ]
  }
 ],
 "metadata": {
  "kernelspec": {
   "display_name": "Python 3",
   "language": "python",
   "name": "python3"
  },
  "language_info": {
   "codemirror_mode": {
    "name": "ipython",
    "version": 3
   },
   "file_extension": ".py",
   "mimetype": "text/x-python",
   "name": "python",
   "nbconvert_exporter": "python",
   "pygments_lexer": "ipython3",
   "version": "3.6.8"
  }
 },
 "nbformat": 4,
 "nbformat_minor": 2
}
