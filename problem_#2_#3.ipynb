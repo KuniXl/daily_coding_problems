{
 "cells": [
  {
   "cell_type": "markdown",
   "metadata": {},
   "source": [
    "# Daily Coding Problem: Problem \\#3 [Medium]"
   ]
  },
  {
   "cell_type": "markdown",
   "metadata": {},
   "source": [
    "Good morning! Here's your coding interview problem for today.\n",
    "\n",
    "This problem was asked by Google.\n",
    "\n",
    "Given the root to a binary tree, implement *serialize(root)*, which serializes the tree into a string, and *deserialize(s)*, which deserializes the string back into the tree.\n",
    "\n",
    "For example, given the following Node class\n",
    "\n",
    "    class Node:\n",
    "    def __init__(self, val, left=None, right=None):\n",
    "        self.val = val\n",
    "        self.left = left\n",
    "        self.right = right\n",
    "        \n",
    "The following test should pass:\n",
    "\n",
    "    node = Node('root', Node('left', Node('left.left')), Node('right'))\n",
    "    assert deserialize(serialize(node)).left.left.val == 'left.left'"
   ]
  },
  {
   "cell_type": "code",
   "execution_count": null,
   "metadata": {},
   "outputs": [],
   "source": [
    "class Node:\n",
    "    def __init__(self, val, left=None, right=None):\n",
    "        self.val = val\n",
    "        self.left = left\n",
    "        self.right = right\n",
    "        \n",
    "    def __repr__(self):\n",
    "        return ('Node(' + repr(self.val) + ', '\n",
    "                        + repr(self.left) + ', '\n",
    "                        + repr(self.right) + ')')"
   ]
  },
  {
   "cell_type": "code",
   "execution_count": null,
   "metadata": {},
   "outputs": [],
   "source": [
    "def serialize(root):\n",
    "    return root.__repr__()"
   ]
  },
  {
   "cell_type": "code",
   "execution_count": null,
   "metadata": {},
   "outputs": [],
   "source": [
    "def deserialize(s):\n",
    "    return eval(s)"
   ]
  },
  {
   "cell_type": "code",
   "execution_count": null,
   "metadata": {},
   "outputs": [],
   "source": [
    "node = Node('root', Node('left', Node('left.left')), Node('right'))"
   ]
  },
  {
   "cell_type": "code",
   "execution_count": null,
   "metadata": {},
   "outputs": [],
   "source": [
    "serialize(node)"
   ]
  },
  {
   "cell_type": "code",
   "execution_count": null,
   "metadata": {},
   "outputs": [],
   "source": [
    "deserialise(serialize(node))"
   ]
  },
  {
   "cell_type": "code",
   "execution_count": null,
   "metadata": {},
   "outputs": [],
   "source": [
    "assert deserialize(serialize(node)).left.left.val == 'left.left'"
   ]
  },
  {
   "cell_type": "code",
   "execution_count": null,
   "metadata": {},
   "outputs": [],
   "source": []
  },
  {
   "cell_type": "markdown",
   "metadata": {},
   "source": [
    "# 2. Daily Coding Problem: Problem \\#2 [Hard]"
   ]
  },
  {
   "cell_type": "markdown",
   "metadata": {},
   "source": [
    "Good morning! Here's your coding interview problem for today.\n",
    "\n",
    "This problem was asked by Uber.\n",
    "\n",
    "Given an array of integers, return a new array such that each element at index i of the new array is the product of all the numbers in the original array except the one at i.\n",
    "\n",
    "For example, if our input was [1, 2, 3, 4, 5], the expected output would be [120, 60, 40, 30, 24]. If our input was [3, 2, 1], the expected output would be [2, 3, 6].\n",
    "\n",
    "Follow-up: what if you can't use division?"
   ]
  },
  {
   "cell_type": "markdown",
   "metadata": {},
   "source": [
    "## 2.1 Solution with Divison and Treadment of Divison/0"
   ]
  },
  {
   "cell_type": "code",
   "execution_count": 112,
   "metadata": {},
   "outputs": [
    {
     "data": {
      "text/plain": [
       "array([0, 0, 8, 0])"
      ]
     },
     "execution_count": 112,
     "metadata": {},
     "output_type": "execute_result"
    }
   ],
   "source": [
    "import numpy as np\n",
    "\n",
    "def daily_coding_problem_3(array):\n",
    "    result = np.array(array)\n",
    "    non_zero_prod = 1\n",
    "    isZero = False\n",
    "    numZeros = 0\n",
    "    \n",
    "    for x in array:\n",
    "        if x == 0:\n",
    "            isZero = True\n",
    "            numZeros += 1\n",
    "        else:\n",
    "            non_zero_prod = non_zero_prod*x\n",
    "    \n",
    "    # Case 1: More then one zero --> resultarray contains all zeros!\n",
    "    if numZeros > 1:\n",
    "        print(\"More then 1 zero.\")\n",
    "        return np.zeros(len(array))\n",
    "    \n",
    "    # Case 2: 1 or less zeros:\n",
    "    if numZeros <= 1:\n",
    "        if isZero == False:\n",
    "            # normal divisioncase \n",
    "            for x in range(len(array)):\n",
    "                result[x] = non_zero_prod/array[x]\n",
    "        else:\n",
    "            # there must exactly one zero, in that case \n",
    "            # the result is all zeros, except for one index \n",
    "            # where the input is 0\n",
    "            # example:\n",
    "            # input  [1,2,3,0]\n",
    "            # output [0,0,0,6]\n",
    "            for x in range(len(array)):\n",
    "                if array[x] == 0:\n",
    "                    result[x] = non_zero_prod\n",
    "                else:\n",
    "                    result[x] = 0\n",
    "                    \n",
    "    return result\n",
    "\n",
    "daily_coding_problem_3(np.array([1,2,0,4]))"
   ]
  },
  {
   "cell_type": "markdown",
   "metadata": {},
   "source": [
    "## 2.2 Solution without Divison"
   ]
  },
  {
   "cell_type": "markdown",
   "metadata": {},
   "source": [
    "I found this solution on [stackoverflow](https://stackoverflow.com/questions/2680548/given-an-array-of-numbers-return-array-of-products-of-all-other-numbers-no-div) explained from Michael Anderson. In case of N=4, the multiplication looks like this:"
   ]
  },
  {
   "cell_type": "markdown",
   "metadata": {},
   "source": [
    "Input: [1, 2, 3, 4]"
   ]
  },
  {
   "cell_type": "raw",
   "metadata": {},
   "source": [
    "arr1 = {              1,         a[0],    a[0]*a[1],    a[0]*a[1]*a[2],  }\n",
    "arr2 = { a[1]*a[2]*a[3],    a[2]*a[3],         a[3],                 1,  }\n",
    "\n",
    "result = arr1*arr2"
   ]
  },
  {
   "cell_type": "code",
   "execution_count": 145,
   "metadata": {},
   "outputs": [
    {
     "name": "stdout",
     "output_type": "stream",
     "text": [
      "[1 1 2 0]\n",
      "[0 0 4 1]\n",
      "[0 0 8 0]\n"
     ]
    }
   ],
   "source": [
    "import numpy as np\n",
    "\n",
    "def daily_coding_problem_3_v2(array):\n",
    "    length = len(array)\n",
    "    \n",
    "    arr1=np.array([0]*length)\n",
    "    arr2=np.array([0]*length)\n",
    "    \n",
    "    arr1[0] = 1\n",
    "    for x in range(1,length):\n",
    "        arr1[x] = array[x-1]*arr1[x-1]\n",
    "    print(arr1)\n",
    "    \n",
    "    arr2[length-1] = 1\n",
    "    for x in range(length-2, -1, -1):\n",
    "        arr2[x] = array[x+1]*arr2[x+1]\n",
    "    print(arr2)\n",
    "    \n",
    "    result = np.multiply(arr1, arr2)\n",
    "    return result\n",
    "\n",
    "print(daily_coding_problem_3_v2(np.array([1,2,0,4])))"
   ]
  },
  {
   "cell_type": "markdown",
   "metadata": {},
   "source": [
    "There is another Option which reduces the required space even more! Look at this:"
   ]
  },
  {
   "cell_type": "code",
   "execution_count": 143,
   "metadata": {},
   "outputs": [
    {
     "name": "stdout",
     "output_type": "stream",
     "text": [
      "i:0 result: [1 1 1 1] temp: 1 array:[1 2 0 4]\n",
      "i:1 result: [1 1 1 1] temp: 2 array:[1 2 0 4]\n",
      "i:2 result: [1 1 2 1] temp: 0 array:[1 2 0 4]\n",
      "i:3 result: [1 1 2 0] temp: 0 array:[1 2 0 4]\n",
      "\n",
      "i:3 result: [1 1 2 0] temp: 4 array:[1 2 0 4]\n",
      "i:2 result: [1 1 8 0] temp: 0 array:[1 2 0 4]\n",
      "i:1 result: [1 0 8 0] temp: 0 array:[1 2 0 4]\n",
      "i:0 result: [0 0 8 0] temp: 0 array:[1 2 0 4]\n",
      "[0 0 8 0]\n"
     ]
    }
   ],
   "source": [
    "import numpy as np\n",
    "\n",
    "def daily_coding_problem_3_v3(array):\n",
    "    length = len(array)\n",
    "    result = np.array([1]*length)\n",
    "    \n",
    "    temp = 1\n",
    "    \n",
    "    for i in range(length):\n",
    "        result[i] = temp\n",
    "        temp *= array[i]\n",
    "        print(\"i:\"+str(i)+\" result: \"+str(result)+\" temp: \"+str(temp)+\" array:\"+str(array))\n",
    "    \n",
    "    temp = 1\n",
    "    print(\"\")\n",
    "    for i in range(length-1, -1, -1):\n",
    "        result[i] *= temp\n",
    "        temp *= array[i]\n",
    "        print(\"i:\"+str(i)+\" result: \"+str(result)+\" temp: \"+str(temp)+\" array:\"+str(array))\n",
    "        \n",
    "    #result = np.multiply(arr1, arr2)\n",
    "    return result\n",
    "\n",
    "print(daily_coding_problem_3_v3(np.array([1,2,0,4])))"
   ]
  },
  {
   "cell_type": "markdown",
   "metadata": {},
   "source": [
    "We saved us arr1 and arr2 and just use one array \"result\"."
   ]
  },
  {
   "cell_type": "markdown",
   "metadata": {},
   "source": [
    "# DONE!!!! <a name=\"done\"></a>"
   ]
  },
  {
   "cell_type": "code",
   "execution_count": null,
   "metadata": {},
   "outputs": [],
   "source": []
  }
 ],
 "metadata": {
  "kernelspec": {
   "display_name": "Python 3",
   "language": "python",
   "name": "python3"
  },
  "language_info": {
   "codemirror_mode": {
    "name": "ipython",
    "version": 3
   },
   "file_extension": ".py",
   "mimetype": "text/x-python",
   "name": "python",
   "nbconvert_exporter": "python",
   "pygments_lexer": "ipython3",
   "version": "3.6.8"
  }
 },
 "nbformat": 4,
 "nbformat_minor": 2
}
