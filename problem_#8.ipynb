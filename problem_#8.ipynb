{
 "cells": [
  {
   "cell_type": "markdown",
   "metadata": {},
   "source": [
    "# Daily Coding Problem #8"
   ]
  },
  {
   "cell_type": "markdown",
   "metadata": {},
   "source": [
    "A unival tree (which stands for \"universal value\") is a tree where all nodes under it have the same value.\n",
    "\n",
    "Given the root to a binary tree, count the number of unival subtrees.\n",
    "\n",
    "For example, the following tree has 5 unival subtrees:"
   ]
  },
  {
   "cell_type": "code",
   "execution_count": 1,
   "metadata": {},
   "outputs": [],
   "source": [
    "tree = \"\"\"   \n",
    "   0\n",
    "  / \\\\\n",
    " 1   0\n",
    "    / \\\\\n",
    "   1   0\n",
    "  / \\\\\n",
    " 1   1\"\"\""
   ]
  },
  {
   "cell_type": "code",
   "execution_count": 5,
   "metadata": {},
   "outputs": [
    {
     "name": "stdout",
     "output_type": "stream",
     "text": [
      "   \n",
      "   0\n",
      "  / \\\n",
      " 1   0\n",
      "    / \\\n",
      "   1   0\n",
      "  / \\\n",
      " 1   1 \n",
      "Num of unival subtrees: 5\n"
     ]
    }
   ],
   "source": [
    "class Node:\n",
    "    def __init__(self, val, left=None, right=None):\n",
    "        self.val = val\n",
    "        self.left = left\n",
    "        self.right = right\n",
    "\n",
    "def count_unival_subtrees_helper(subroot):\n",
    "    if subroot == None:\n",
    "        return 0, None\n",
    "    \n",
    "    left = subroot.left\n",
    "    right = subroot.right\n",
    "    \n",
    "    count, val = count_unival_subtrees_helper(left)\n",
    "    count2, val2 = count_unival_subtrees_helper(right)\n",
    "    count = count + count2\n",
    "    \n",
    "    if subroot.left == None and subroot.right == None:\n",
    "        #print(\"+1\")\n",
    "        return 1+count, subroot.val\n",
    "    \n",
    "    if not (subroot.left and subroot.right):\n",
    "        if subroot.val == val or subroot.val == val2:\n",
    "            #print(\"+1\")\n",
    "            return count+1, subroot.val\n",
    "        else:\n",
    "            #print(\"+0\")\n",
    "            return count, None\n",
    "    \n",
    "    if val == val2 == subroot.val:\n",
    "        #print(\"+1\")\n",
    "        return 1 + count, subroot.val\n",
    "    \n",
    "    return count, None\n",
    "\n",
    "def count_unival_subtrees(root):\n",
    "    return count_unival_subtrees_helper(root)[0]\n",
    "    \n",
    "tree = \"\"\"   \n",
    "   0\n",
    "  / \\\\\n",
    " 1   0\n",
    "    / \\\\\n",
    "   1   0\n",
    "  / \\\\\n",
    " 1   1\"\"\"\n",
    "\n",
    "_root = Node(val=0, left=Node(val=1),\n",
    "    right=Node(val=0, left=Node(val=1, left=Node(val=1), right=Node(val=1)), right=Node(val=0)))\n",
    "print(tree, '\\nNum of unival subtrees: ' + str(count_unival_subtrees(_root)))"
   ]
  },
  {
   "cell_type": "code",
   "execution_count": 6,
   "metadata": {},
   "outputs": [
    {
     "name": "stdout",
     "output_type": "stream",
     "text": [
      "   \n",
      "   1\n",
      "    \\\n",
      "     1\n",
      "    / \\\n",
      "   1   1\n",
      "  / \\\n",
      " 1   1 \n",
      "Num of unival subtrees: 6\n"
     ]
    }
   ],
   "source": [
    "tree = \"\"\"   \n",
    "   1\n",
    "    \\\\\n",
    "     1\n",
    "    / \\\\\n",
    "   1   1\n",
    "  / \\\\\n",
    " 1   1\"\"\"\n",
    "_root = Node(val=1,\n",
    "             right=Node(val=1, left=Node(val=1, left=Node(val=1), right=Node(val=1)), right=Node(val=1)))\n",
    "print(tree, '\\nNum of unival subtrees: ' + str(count_unival_subtrees(_root)))"
   ]
  },
  {
   "cell_type": "code",
   "execution_count": null,
   "metadata": {},
   "outputs": [],
   "source": []
  }
 ],
 "metadata": {
  "kernelspec": {
   "display_name": "Python 3",
   "language": "python",
   "name": "python3"
  },
  "language_info": {
   "codemirror_mode": {
    "name": "ipython",
    "version": 3
   },
   "file_extension": ".py",
   "mimetype": "text/x-python",
   "name": "python",
   "nbconvert_exporter": "python",
   "pygments_lexer": "ipython3",
   "version": "3.6.8"
  }
 },
 "nbformat": 4,
 "nbformat_minor": 2
}
